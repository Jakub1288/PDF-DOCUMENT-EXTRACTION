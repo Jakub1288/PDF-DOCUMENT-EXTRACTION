{
 "cells": [
  {
   "cell_type": "code",
   "execution_count": null,
   "id": "8108aed5-dfe0-4aa1-8c4d-fd97114794e6",
   "metadata": {
    "tags": []
   },
   "outputs": [],
   "source": [
    "import pandas as pd\n",
    "import os \n",
    "import re \n",
    "import numpy as np \n",
    "import string \n",
    "import tabula\n",
    "\n",
    "\n",
    "directory = 'path to PDF docs' #Cesta k PDF souborům"
   ]
  },
  {
   "cell_type": "code",
   "execution_count": null,
   "id": "667bc0f5-c19b-415c-8c05-47b5640f961f",
   "metadata": {
    "tags": []
   },
   "outputs": [],
   "source": [
    "text_zpravy = {}\n",
    "\n",
    "#Extrakce textu z PDF souboru do text_zpravy slovniku za pomoci tabula-read_pdf s atributem Stream\n",
    "for filename in os.listdir(directory):\n",
    "    print(\"zpracovavam zpravu: \", filename)\n",
    "    if filename.endswith('.pdf'):\n",
    "        filepath = os.path.join(directory, filename)\n",
    "        tables = tabula.read_pdf(filepath, pages='all', stream=True, silent=True)\n",
    "        page_tables = []\n",
    "        for table in tables:\n",
    "            df = table.copy()\n",
    "            page_tables.append(df)\n",
    "        text_zpravy[filename] = page_tables"
   ]
  },
  {
   "cell_type": "code",
   "execution_count": null,
   "id": "ee5ee05f-1f8b-42da-a8b8-6f83f37d96ab",
   "metadata": {
    "tags": []
   },
   "outputs": [],
   "source": [
    "text_zpravy_filtered = {}\n",
    "\n",
    "# Filtruje pouze ty tabulky, v kterých je název cílového sloupce, případně ty, kde je název cílového sloupce v prvním řádku a posune ho do názvu sloupce\n",
    "for filename, tables in text_zpravy.items():\n",
    "    page_tables = []\n",
    "    for table in tables:\n",
    "        # Kontroluje, zda se nějaký sloupec shoduje s jedním z požadovaných názvů.\n",
    "        columns = []\n",
    "        has_required_columns = False\n",
    "        for col in table.columns:\n",
    "            if 'Běžné období' in col or '31.prosince 2021' in col or '31. prosince 2021' in col or '31.12.2021' in col or '31. 12. 2021' in col or '2021' in col or '(tis. Kč) 2021' in col:\n",
    "                if isinstance(table[col][0], str):\n",
    "                    columns.append(table[col][0])\n",
    "                else:\n",
    "                    columns.append(col)\n",
    "                has_required_columns = True\n",
    "            else:\n",
    "                columns.append(col)\n",
    "        # Kontroluje, zda se nějaký sloupec vyskytuje v tabulce\n",
    "        if has_required_columns or any(col for col in columns if 'Běžné období' in col or '31.prosince 2021' in col or '31. prosince 2021' in col or '31.12.2021' in col or '31. 12. 2021' in col or '2021' in col or '(tis. Kč) 2021' in col):\n",
    "            df = table.copy()\n",
    "            if not any(col for col in df.columns if 'Běžné období' in col or '31.prosince 2021' in col or '31. prosince 2021' in col or '31.12.2021' in col or '31. 12. 2021' in col or '2021' in col or '(tis. Kč) 2021' in col):\n",
    "                df.columns = columns[0:len(df.columns)]\n",
    "            page_tables.append(df)\n",
    "    # Přidá list tabulek do slovníku, kde jméno klíče je jméno souboru\n",
    "    if page_tables:\n",
    "        text_zpravy_filtered[filename] = page_tables\n"
   ]
  },
  {
   "cell_type": "code",
   "execution_count": null,
   "id": "5b4e06bd-0f3e-4854-a2eb-fd998e92d3df",
   "metadata": {
    "tags": []
   },
   "outputs": [],
   "source": [
    "selected_tables = {}\n",
    "\n",
    "#Vybere pouze tabulky, kde je řádek s názvem Pohledávky za bankami.\n",
    "for filename, tables in text_zpravy_filtered.items():\n",
    "    for table in tables:\n",
    "        if any(row.str.contains('Pohledávky za bankami').any() for _, row in table.iterrows()):\n",
    "            if filename not in selected_tables:\n",
    "                selected_tables[filename] = []\n",
    "            selected_tables[filename].append(table)\n"
   ]
  },
  {
   "cell_type": "code",
   "execution_count": null,
   "id": "73f2aa97-4004-4c65-b65d-521cab70554d",
   "metadata": {
    "tags": []
   },
   "outputs": [],
   "source": [
    "selected_tables_pasiva = {}\n",
    "\n",
    "#Vybere pouze tabulky, kde je řádek s názvem Ostatní pasiva.\n",
    "for filename, tables in text_zpravy_filtered.items():\n",
    "    for table in tables:\n",
    "        if any(row.str.contains('Ostatní pasiva').any() for _, row in table.iterrows()):\n",
    "            if filename not in selected_tables_pasiva:\n",
    "                selected_tables_pasiva[filename] = []\n",
    "            selected_tables_pasiva[filename].append(table)"
   ]
  },
  {
   "cell_type": "code",
   "execution_count": null,
   "id": "5ac1b135-dc05-48d7-82cb-5cb6f1743f77",
   "metadata": {
    "tags": []
   },
   "outputs": [],
   "source": [
    "first_selected_table = {}\n",
    "\n",
    "#Vybere první tabulku z tabulek selected_tables\n",
    "#Musíme dávat pozor, jestli první tabulka je ta co chceme.\n",
    "for filename, tables in selected_tables.items():\n",
    "    if len(tables) > 0:\n",
    "        first_selected_table[filename] = tables[0]"
   ]
  },
  {
   "cell_type": "code",
   "execution_count": null,
   "id": "1f0f4a68-43c9-48f4-801c-c4eac1a9c789",
   "metadata": {
    "tags": []
   },
   "outputs": [],
   "source": [
    "first_selected_table_pasiva = {}\n",
    "\n",
    "#Vybere první tabulku z tabulek selected_tables_pasiva\n",
    "#Musíme dávat pozor, jestli první tabulka je ta co chceme.\n",
    "for filename, tables in selected_tables_pasiva.items():\n",
    "    if len(tables) > 0:\n",
    "        first_selected_table_pasiva[filename] = tables[0]"
   ]
  },
  {
   "cell_type": "code",
   "execution_count": null,
   "id": "bf2c5d60-af80-4ecc-8e0e-98b5576c8f03",
   "metadata": {
    "tags": []
   },
   "outputs": [],
   "source": [
    "#Vytváříme finální slovník s výsledky. Požadované hodnoty jsou ve formátu float\n",
    "selected_values_first_table = {}\n",
    "#Zde již vybíráme konkrétní hodnoty na základě názvu sloupce i řádků\n",
    "for filename, table in first_selected_table.items():\n",
    "    try:\n",
    "        # Extrahuje požadované hodnoty z tabulky\n",
    "        selected_columns = [col for col in table.columns if 'Běžné období' in col or '31.prosince 2021' in col or '31. prosince 2021' in col or '31.12.2021' in col or '31. 12. 2021' in col or '2021' in col or '(tis. Kč) 2021' in col]\n",
    "        selected_rows_1 = [row for _, row in table.iterrows() if row.str.contains('Pohledávky za bankami').any()]\n",
    "        selected_rows_2 = [row for _, row in table.iterrows() if row.str.contains('Dluhové cenné papíry').any()]\n",
    "        selected_rows_3 = [row for _, row in table.iterrows() if row.str.contains('Aktiva celkem|AKTIVA CELKEM').any()]\n",
    "        selected_rows_4 = [row for _, row in table.iterrows() if row.str.contains('Ostatní pasiva').any()]\n",
    "        selected_rows_5 = [row for _, row in table.iterrows() if row.str.contains('Zisk za účetní období|Zisk/ztráta za účetní období|Zisk \\(\\+\\) / ztráta \\(-\\) za účetní období|Zisk nebo ztráta za účetní období').any()]\n",
    "        table_for_selection = table\n",
    "\n",
    "        # Tento blok probíhá v případě, že jsou tabulky pasiva a aktiva oddělené, tzn. pasiva nebyla nalezena v první tabulce\n",
    "        if not selected_rows_4 or not selected_rows_5:\n",
    "            # Pokud nastane, tak hledáme tabulku z first_selected_table_pasiva\n",
    "            table_for_selection = first_selected_table_pasiva[filename]\n",
    "            selected_rows_4 = [row for _, row in table_for_selection.iterrows() if row.str.contains('Ostatní pasiva').any()]\n",
    "            selected_rows_5 = [row for _, row in table_for_selection.iterrows() if row.str.contains('Zisk za účetní období|Zisk/ztráta za účetní období|Zisk \\(\\+\\) / ztráta \\(-\\) za účetní období|Zisk nebo ztráta za účetní období').any()]\n",
    "            # Vytváříme nový slovník values\n",
    "            values = {}\n",
    "            # Iterujem pro řádky 1-3 z first_selected_table\n",
    "            for row in selected_rows_1 + selected_rows_2 + selected_rows_3:\n",
    "                row_name = row.values[0]\n",
    "                for col in selected_columns:\n",
    "                    if isinstance(table.at[row.name, col], str) and table.at[row.name, col].strip() != '':\n",
    "                        value_str = table.at[row.name, col].strip()\n",
    "                        try:\n",
    "                            value = float(table.at[row.name, col].replace(' ', '').replace(',', '.'))\n",
    "                            values[row_name] = value\n",
    "                            break\n",
    "                        except ValueError:\n",
    "                            match = re.search(r'\\d+(\\.\\d+)?', value_str)\n",
    "                            if match:\n",
    "                                value = float(match.group())\n",
    "                                values[row_name] = value\n",
    "                                break\n",
    "            # Iterujem pro řádky 4-5 z tabulky first_selected_table_pasiva\n",
    "            for row in selected_rows_4 + selected_rows_5:\n",
    "                row_name = row.values[0]\n",
    "                for col in selected_columns:\n",
    "                    if isinstance(table_for_selection.at[row.name, col], str) and table_for_selection.at[row.name, col].strip() != '':\n",
    "                        value = float(table_for_selection.at[row.name, col].replace(' ', '').replace(',', '.'))\n",
    "                        values[row_name] = value\n",
    "                        break\n",
    "        else:\n",
    "            table_for_selection = table\n",
    "            # Opět vytváříme nový slovník values\n",
    "            values = {}\n",
    "            # Iterujem rovnou přes všechny řádky z tabulky first_selected_table\n",
    "            for row in selected_rows_1 + selected_rows_2 + selected_rows_3 + selected_rows_4 + selected_rows_5:\n",
    "                row_name = row.values[0]\n",
    "                for col in selected_columns:\n",
    "                    if isinstance(table_for_selection.at[row.name, col], str) and table_for_selection.at[row.name, col].strip() != '':\n",
    "                        value = float(table_for_selection.at[row.name, col].replace(' ', '').replace(',', '.'))\n",
    "                        values[row_name] = value\n",
    "\n",
    "        #Finální přiřazení do cílové proměnné    \n",
    "        selected_values_first_table[filename] = values\n",
    "    except Exception as e:\n",
    "        print(f\"Chyba nastala u dokumentu: {filename}. Chyba je: {e}  \\n Pokračuji dále...\")\n",
    "        continue"
   ]
  },
  {
   "cell_type": "code",
   "execution_count": null,
   "id": "a6c4dd4c-6b02-40e6-bab8-deb6ae1f24fe",
   "metadata": {
    "tags": []
   },
   "outputs": [],
   "source": [
    "selected_values_first_table.keys()"
   ]
  },
  {
   "cell_type": "code",
   "execution_count": null,
   "id": "2a124de4-eb3f-48bb-a5e4-e7e8ae8bb6cb",
   "metadata": {
    "tags": []
   },
   "outputs": [],
   "source": [
    "selected_values_first_table"
   ]
  },
  {
   "cell_type": "code",
   "execution_count": null,
   "id": "88fca12f-f0c5-4ad4-819e-a554073afb2b",
   "metadata": {},
   "outputs": [],
   "source": []
  }
 ],
 "metadata": {
  "kernelspec": {
   "display_name": "Python 3 (ipykernel)",
   "language": "python",
   "name": "python3"
  },
  "language_info": {
   "codemirror_mode": {
    "name": "ipython",
    "version": 3
   },
   "file_extension": ".py",
   "mimetype": "text/x-python",
   "name": "python",
   "nbconvert_exporter": "python",
   "pygments_lexer": "ipython3",
   "version": "3.11.4"
  }
 },
 "nbformat": 4,
 "nbformat_minor": 5
}
